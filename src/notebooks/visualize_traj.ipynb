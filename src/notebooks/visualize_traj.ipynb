{
  "cells": [
    {
      "cell_type": "code",
      "execution_count": null,
      "metadata": {
        "colab": {
          "base_uri": "https://localhost:8080/"
        },
        "id": "2FMh1AHDVMqv",
        "outputId": "c64c2347-c515-44ba-badf-859ac2196414"
      },
      "outputs": [],
      "source": [
        "# !pip install rlcard[torch]"
      ]
    },
    {
      "cell_type": "code",
      "execution_count": 2,
      "metadata": {
        "colab": {
          "base_uri": "https://localhost:8080/"
        },
        "id": "BCUWVUdJVES1",
        "outputId": "c038ef05-3505-497b-ce3d-b9bdf4bd74f4"
      },
      "outputs": [
        {
          "name": "stdout",
          "output_type": "stream",
          "text": [
            "Mounted at /content/drive\n"
          ]
        }
      ],
      "source": [
        "# from google.colab import drive\n",
        "# drive.mount('/content/drive')"
      ]
    },
    {
      "cell_type": "code",
      "execution_count": 1,
      "metadata": {
        "id": "YtLPrkCIVkmo"
      },
      "outputs": [],
      "source": [
        "import rlcard\n",
        "from rlcard.agents import RandomAgent\n",
        "from rlcard.games.base import Card\n",
        "import torch\n",
        "from IPython.display import clear_output\n",
        "from rlcard.utils import reorganize, print_card\n"
      ]
    },
    {
      "cell_type": "code",
      "execution_count": 2,
      "metadata": {
        "id": "CByQOVOrSq3W"
      },
      "outputs": [],
      "source": [
        "env = rlcard.make(\n",
        "    'limit-holdem-collaborative',\n",
        "    config={\n",
        "        'seed': 42,\n",
        "        'game_num_players': 3\n",
        "    }\n",
        ")\n",
        "# agent1, agent2, agent3 = RandomAgent(num_actions=4), RandomAgent(num_actions=4), RandomAgent(num_actions=4)\n",
        "agent1 = torch.load('./checkpoint_collab/collab_brain2_more_info.pth')\n",
        "agent2 = torch.load('./checkpoint_collab/collab_brain2_more_info.pth')\n",
        "agent3 = torch.load('./checkpoint_collab/comp_brain1.pth')\n",
        "env.set_agents([agent1, agent2, agent3])\n",
        "agents = env.agents\n",
        "\n"
      ]
    },
    {
      "cell_type": "code",
      "execution_count": 3,
      "metadata": {
        "id": "9hAKrGcXS0Tt"
      },
      "outputs": [],
      "source": [
        "game = env.game.init_game()\n",
        "\n",
        "old_hands = [env.game.players[i].hand for i in range(env.num_players)]\n",
        "\n",
        "cards = ['C7', 'H2', 'SA', 'HA', 'D8', 'S2']\n",
        "\n",
        "env.game.players[0].hand = [Card('C', '7'), Card('H', '2')]\n",
        "env.game.players[1].hand = [Card('S', 'A'), Card('H', 'A')]\n",
        "env.game.players[2].hand = [Card('D', '8'), Card('S', '2')]\n",
        "\n",
        "for h in old_hands:\n",
        "  if str(h[0]) not in cards:\n",
        "    env.game.dealer.deck.append(h[0])\n",
        "  if str(h[0]) not in cards:\n",
        "    env.game.dealer.deck.append(h[1])\n",
        "\n",
        "trajectories = [[] for _ in range(env.num_players)]\n",
        "\n",
        "curr_player_id = env.get_player_id()\n",
        "curr_state = env.get_state(curr_player_id)\n",
        "\n",
        "trajectories[curr_player_id].append(curr_state)\n",
        "\n",
        "while not env.is_over():\n",
        "  curr_player = agents[curr_player_id]\n",
        "  curr_action = curr_player.eval_step(curr_state)\n",
        "  \n",
        "  trajectories[curr_player_id].append(curr_action)\n",
        "\n",
        "  curr_state, curr_player_id = env.step(curr_action[0], curr_player.use_raw)\n",
        "\n",
        "\n",
        "  if not env.game.is_over():\n",
        "    trajectories[curr_player_id].append(curr_state)\n",
        "\n",
        "for player_id in range(env.num_players):\n",
        "  state = env.get_state(player_id)\n",
        "  trajectories[player_id].append(state)\n",
        "\n",
        "\n",
        "# Payoffs\n",
        "payoffs = env.get_payoffs()\n",
        "\n",
        "trajectories = reorganize(trajectories, payoffs)"
      ]
    },
    {
      "cell_type": "code",
      "execution_count": 4,
      "metadata": {},
      "outputs": [
        {
          "data": {
            "text/plain": [
              "array([1., 0., 0., 0., 0., 0., 0., 0., 0., 0., 0., 0., 0., 1., 1., 0., 0.,\n",
              "       0., 0., 0., 0., 0., 0., 0., 0., 0., 0., 0., 0., 0., 0., 0., 0., 0.,\n",
              "       0., 0., 0., 0., 0., 0., 0., 0., 0., 0., 0., 1., 0., 0., 0., 0., 0.,\n",
              "       0., 1.])"
            ]
          },
          "execution_count": 4,
          "metadata": {},
          "output_type": "execute_result"
        }
      ],
      "source": [
        "trajectories[0][0][0]['obs'][0:53]"
      ]
    },
    {
      "cell_type": "code",
      "execution_count": 5,
      "metadata": {
        "id": "49KwJ7vhg4kn"
      },
      "outputs": [],
      "source": [
        "def visualize_trajectory(traj, traj_env, player_id):\n",
        "  p_traj = traj[player_id]\n",
        "\n",
        "  round2name = {0: 'Pre Flop', 1: 'Flop', 2: 'Turn', 3: 'River'}\n",
        "  all_actions = ['call', 'raise', 'fold', 'check']\n",
        "  round_count = 0\n",
        "  pub_cards = []\n",
        "\n",
        "  print(f\"Player {player_id} cards\")\n",
        "  print_card(p_traj[0][0]['raw_obs']['hand'])\n",
        "  print(\"-\"*50)\n",
        "  print(round2name[round_count])\n",
        "  print(\"-\"*50)\n",
        "\n",
        "  for t in p_traj:\n",
        "    s, a, r, ns, done = t\n",
        "    old_len = len(pub_cards)\n",
        "\n",
        "    pub_cards = s['raw_obs']['public_cards']\n",
        "\n",
        "    if old_len != len(pub_cards):\n",
        "      round_count += 1\n",
        "      print(\"-\"*50)\n",
        "      print(f\"{round2name[round_count]}\")\n",
        "      print(\"-\"*50)\n",
        "      print_card(pub_cards) \n",
        "\n",
        "    print(all_actions[a[0]])\n",
        "\n",
        "    if done:\n",
        "      print(\"-\"*50)\n",
        "      print(f\"Player {player_id} got {r}\")\n",
        "\n"
      ]
    },
    {
      "cell_type": "code",
      "execution_count": 38,
      "metadata": {
        "colab": {
          "base_uri": "https://localhost:8080/"
        },
        "id": "Bk6STGG5h9BH",
        "outputId": "cb2c9a6b-26b7-4a71-be05-1a7eba9b6704"
      },
      "outputs": [
        {
          "name": "stdout",
          "output_type": "stream",
          "text": [
            "Player 2 cards\n",
            "┌─────────┐   ┌─────────┐\n",
            "│8        │   │2        │\n",
            "│         │   │         │\n",
            "│         │   │         │\n",
            "│    ♦    │   │    ♠    │\n",
            "│         │   │         │\n",
            "│         │   │         │\n",
            "│        8│   │        2│\n",
            "└─────────┘   └─────────┘\n",
            "--------------------------------------------------\n",
            "Pre Flop\n",
            "--------------------------------------------------\n",
            "fold\n",
            "--------------------------------------------------\n",
            "Player 2 got -1.0\n"
          ]
        }
      ],
      "source": [
        "visualize_trajectory(trajectories, env, 2)"
      ]
    },
    {
      "cell_type": "code",
      "execution_count": 12,
      "metadata": {
        "id": "_2AO_IPRqJrV"
      },
      "outputs": [],
      "source": [
        "import pickle"
      ]
    },
    {
      "cell_type": "code",
      "execution_count": 13,
      "metadata": {},
      "outputs": [],
      "source": [
        "with open('traj.pkl', 'wb') as f:\n",
        "    pickle.dump(trajectories, f)"
      ]
    },
    {
      "cell_type": "code",
      "execution_count": 22,
      "metadata": {},
      "outputs": [
        {
          "name": "stdout",
          "output_type": "stream",
          "text": [
            "[{'legal_actions': OrderedDict([(0, None), (1, None), (2, None)]), 'obs': array([0., 0., 0., 0., 0., 0., 0., 0., 0., 0., 0., 0., 0., 0., 1., 0., 0.,\n",
            "       0., 0., 0., 0., 0., 0., 0., 0., 0., 0., 0., 0., 0., 0., 0., 0., 0.,\n",
            "       0., 0., 0., 0., 0., 0., 0., 0., 0., 0., 0., 1., 0., 0., 0., 0., 0.,\n",
            "       0., 1., 0., 0., 0., 0., 1., 1., 0., 0., 0., 0., 0., 1., 0., 0., 0.,\n",
            "       0., 0., 1., 0., 0., 0., 0., 0.]), 'raw_obs': {'hand': ['C7', 'H2'], 'public_cards': [], 'all_chips': [1, 2, 2], 'my_chips': 1, 'legal_actions': ['call', 'raise', 'fold'], 'raise_nums': [0, 2, 2, 4], 'raise_by_collaborator': [1, 0, 0, 0]}, 'raw_legal_actions': ['call', 'raise', 'fold'], 'action_record': [(2, 'call'), (0, 'call'), (1, 'check'), (2, 'raise'), (0, 'raise'), (1, 'call'), (2, 'call'), (0, 'raise'), (1, 'call'), (2, 'raise'), (0, 'call'), (1, 'call'), (2, 'raise'), (0, 'raise'), (1, 'raise'), (2, 'raise'), (0, 'call'), (1, 'call')]}, (0, {'probs': {'call': 0.7371799101758778, 'raise': 0.25943607915832256, 'fold': 0.0033840106657996877}}), 0, {'legal_actions': OrderedDict([(0, None), (1, None), (2, None)]), 'obs': array([0., 0., 1., 0., 0., 0., 0., 0., 0., 0., 1., 0., 0., 0., 1., 0., 0.,\n",
            "       0., 0., 0., 0., 0., 0., 0., 0., 0., 0., 0., 0., 0., 0., 0., 0., 0.,\n",
            "       0., 0., 0., 0., 0., 0., 0., 0., 0., 0., 0., 1., 0., 0., 0., 0., 0.,\n",
            "       0., 1., 0., 0., 0., 0., 1., 0., 1., 0., 0., 0., 0., 1., 0., 0., 0.,\n",
            "       0., 0., 1., 0., 0., 0., 0., 0.]), 'raw_obs': {'hand': ['C7', 'H2'], 'public_cards': ['SJ', 'C7', 'S3'], 'all_chips': [2, 2, 4], 'my_chips': 2, 'legal_actions': ['call', 'raise', 'fold'], 'raise_nums': [0, 2, 2, 4], 'raise_by_collaborator': [1, 0, 0, 0]}, 'raw_legal_actions': ['call', 'raise', 'fold'], 'action_record': [(2, 'call'), (0, 'call'), (1, 'check'), (2, 'raise'), (0, 'raise'), (1, 'call'), (2, 'call'), (0, 'raise'), (1, 'call'), (2, 'raise'), (0, 'call'), (1, 'call'), (2, 'raise'), (0, 'raise'), (1, 'raise'), (2, 'raise'), (0, 'call'), (1, 'call')]}, False]\n"
          ]
        }
      ],
      "source": [
        "print(trajectories[0][0])"
      ]
    },
    {
      "cell_type": "code",
      "execution_count": null,
      "metadata": {},
      "outputs": [],
      "source": []
    }
  ],
  "metadata": {
    "accelerator": "GPU",
    "colab": {
      "name": "scratchpad",
      "provenance": []
    },
    "gpuClass": "standard",
    "kernelspec": {
      "display_name": "Python 3",
      "name": "python3"
    },
    "language_info": {
      "codemirror_mode": {
        "name": "ipython",
        "version": 3
      },
      "file_extension": ".py",
      "mimetype": "text/x-python",
      "name": "python",
      "nbconvert_exporter": "python",
      "pygments_lexer": "ipython3",
      "version": "3.8.16"
    }
  },
  "nbformat": 4,
  "nbformat_minor": 0
}
